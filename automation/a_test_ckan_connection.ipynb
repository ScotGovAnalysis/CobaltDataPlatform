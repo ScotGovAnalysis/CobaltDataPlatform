{
 "cells": [
  {
   "cell_type": "code",
   "execution_count": 1,
   "metadata": {},
   "outputs": [
    {
     "name": "stdout",
     "output_type": "stream",
     "text": [
      "✅ Database connection successful!\n",
      "✅ CKAN API connection successful!\n"
     ]
    }
   ],
   "source": [
    "import os\n",
    "import pandas as pd\n",
    "import psycopg2\n",
    "import requests\n",
    "import logging\n",
    "import configparser\n",
    "\n",
    "def test_database_connection(config):\n",
    "    try:\n",
    "        conn = psycopg2.connect(\n",
    "            dbname=config.get('Database', 'dbname'),\n",
    "            user=config.get('Database', 'user'),\n",
    "            password=config.get('Database', 'password'),\n",
    "            host=config.get('Database', 'host')\n",
    "        )\n",
    "        print(\"✅ Database connection successful!\")\n",
    "        conn.close()\n",
    "    except Exception as e:\n",
    "        print(f\"❌ Database connection failed: {e}\")\n",
    "\n",
    "def test_ckan_api_connection(config):\n",
    "    try:\n",
    "        response = requests.get(\n",
    "            f\"{config.get('CKAN', 'api_url')}/status_show\",\n",
    "            headers={'Authorization': config.get('CKAN', 'api_key')}\n",
    "        )\n",
    "        if response.status_code == 200:\n",
    "            print(\"✅ CKAN API connection successful!\")\n",
    "        else:\n",
    "            print(f\"❌ CKAN API connection failed: {response.status_code}\")\n",
    "    except Exception as e:\n",
    "        print(f\"❌ CKAN API connection failed: {e}\")\n",
    "\n",
    "def main():\n",
    "    # Load configuration\n",
    "    config = configparser.ConfigParser()\n",
    "    config.read('config.ini')\n",
    "\n",
    "    # Test connections\n",
    "    test_database_connection(config)\n",
    "    test_ckan_api_connection(config)\n",
    "\n",
    "if __name__ == '__main__':\n",
    "    main()"
   ]
  }
 ],
 "metadata": {
  "kernelspec": {
   "display_name": "Python 3",
   "language": "python",
   "name": "python3"
  },
  "language_info": {
   "codemirror_mode": {
    "name": "ipython",
    "version": 3
   },
   "file_extension": ".py",
   "mimetype": "text/x-python",
   "name": "python",
   "nbconvert_exporter": "python",
   "pygments_lexer": "ipython3",
   "version": "3.11.9"
  }
 },
 "nbformat": 4,
 "nbformat_minor": 2
}
