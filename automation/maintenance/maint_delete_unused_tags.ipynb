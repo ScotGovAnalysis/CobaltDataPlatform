{
 "cells": [
  {
   "cell_type": "code",
   "execution_count": null,
   "metadata": {},
   "outputs": [
    {
     "ename": "NameError",
     "evalue": "name 'self' is not defined",
     "output_type": "error",
     "traceback": [
      "\u001b[1;31m---------------------------------------------------------------------------\u001b[0m",
      "\u001b[1;31mNameError\u001b[0m                                 Traceback (most recent call last)",
      "Cell \u001b[1;32mIn[2], line 40\u001b[0m\n\u001b[0;32m     38\u001b[0m \u001b[38;5;66;03m# Usage example:\u001b[39;00m\n\u001b[0;32m     39\u001b[0m api_url \u001b[38;5;241m=\u001b[39m \u001b[38;5;124m\"\u001b[39m\u001b[38;5;124mhttp://35.177.24.156:5000\u001b[39m\u001b[38;5;124m\"\u001b[39m\n\u001b[1;32m---> 40\u001b[0m api_key \u001b[38;5;241m=\u001b[39m \u001b[38;5;28;43mself\u001b[39;49m\u001b[38;5;241m.\u001b[39mconfig\u001b[38;5;241m.\u001b[39mckan_api_key\n\u001b[0;32m     41\u001b[0m delete_empty_tags(api_url, api_key)\n",
      "\u001b[1;31mNameError\u001b[0m: name 'self' is not defined"
     ]
    }
   ],
   "source": [
    "import requests\n",
    "\n",
    "def delete_empty_tags(api_url, api_key):\n",
    "    headers = {\n",
    "        'Authorization': api_key\n",
    "    }\n",
    "\n",
    "    # Get all tags\n",
    "    tag_list_url = f\"{api_url}/api/action/tag_list\"\n",
    "    response = requests.get(tag_list_url)\n",
    "    tags = response.json()['result']\n",
    "\n",
    "    delete_count = 0\n",
    "\n",
    "    for tag in tags:\n",
    "        # Check if the tag has associated datasets\n",
    "        package_search_url = f\"{api_url}/api/action/package_search\"\n",
    "        search_response = requests.get(package_search_url, params={'fq': f'tags:{tag}'})\n",
    "        search_result = search_response.json()\n",
    "\n",
    "        if search_result['result']['count'] == 0:\n",
    "            # Delete tag if it has no datasets\n",
    "            delete_url = f\"{api_url}/api/action/tag_delete\"\n",
    "            delete_response = requests.post(\n",
    "                delete_url,\n",
    "                json={'id': tag},\n",
    "                headers=headers\n",
    "            )\n",
    "\n",
    "            if delete_response.status_code == 200:\n",
    "                delete_count += 1\n",
    "                print(f\"Deleted tag: {tag}\")\n",
    "            else:\n",
    "                print(f\"Failed to delete tag: {tag}\")\n",
    "\n",
    "    print(f\"\\nTotal empty tags deleted: {delete_count}\")\n",
    "            \n",
    "# Usage example:\n",
    "api_url = \"\"\n",
    "api_key = \"\"\n",
    "delete_empty_tags(api_url, api_key)"
   ]
  }
 ],
 "metadata": {
  "kernelspec": {
   "display_name": "Python 3",
   "language": "python",
   "name": "python3"
  },
  "language_info": {
   "codemirror_mode": {
    "name": "ipython",
    "version": 3
   },
   "file_extension": ".py",
   "mimetype": "text/x-python",
   "name": "python",
   "nbconvert_exporter": "python",
   "pygments_lexer": "ipython3",
   "version": "3.11.9"
  }
 },
 "nbformat": 4,
 "nbformat_minor": 2
}
